{
  "nbformat": 4,
  "nbformat_minor": 0,
  "metadata": {
    "colab": {
      "name": "Otomoto.ipynb",
      "provenance": []
    },
    "kernelspec": {
      "name": "python3",
      "display_name": "Python 3"
    },
    "language_info": {
      "name": "python"
    }
  },
  "cells": [
    {
      "cell_type": "code",
      "metadata": {
        "colab": {
          "resources": {
            "http://localhost:8080/nbextensions/google.colab/files.js": {
              "data": "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",
              "ok": true,
              "headers": [
                [
                  "content-type",
                  "application/javascript"
                ]
              ],
              "status": 200,
              "status_text": ""
            }
          },
          "base_uri": "https://localhost:8080/",
          "height": 72
        },
        "id": "XMYW-IrV67kf",
        "outputId": "6fa6a7b4-6e00-408f-9f57-dcaa01d8ee18"
      },
      "source": [
        "from google.colab import files\n",
        "uploaded = files.upload()"
      ],
      "execution_count": 1,
      "outputs": [
        {
          "output_type": "display_data",
          "data": {
            "text/html": [
              "\n",
              "     <input type=\"file\" id=\"files-b9888af7-3b5a-401c-a4aa-5f1575f2aff4\" name=\"files[]\" multiple disabled\n",
              "        style=\"border:none\" />\n",
              "     <output id=\"result-b9888af7-3b5a-401c-a4aa-5f1575f2aff4\">\n",
              "      Upload widget is only available when the cell has been executed in the\n",
              "      current browser session. Please rerun this cell to enable.\n",
              "      </output>\n",
              "      <script src=\"/nbextensions/google.colab/files.js\"></script> "
            ],
            "text/plain": [
              "<IPython.core.display.HTML object>"
            ]
          },
          "metadata": {
            "tags": []
          }
        },
        {
          "output_type": "stream",
          "text": [
            "Saving otomoto_price_prediction_data.csv to otomoto_price_prediction_data (1).csv\n"
          ],
          "name": "stdout"
        }
      ]
    },
    {
      "cell_type": "code",
      "metadata": {
        "id": "PgKCgnAe7j6x",
        "colab": {
          "base_uri": "https://localhost:8080/",
          "height": 204
        },
        "outputId": "50c963aa-fb7a-4ecd-e8df-d3579633503a"
      },
      "source": [
        "import pandas as pd\n",
        "\n",
        "df = pd.read_csv(\"otomoto_price_prediction_data.csv\")\n",
        "\n",
        "df.head()"
      ],
      "execution_count": 2,
      "outputs": [
        {
          "output_type": "execute_result",
          "data": {
            "text/html": [
              "<div>\n",
              "<style scoped>\n",
              "    .dataframe tbody tr th:only-of-type {\n",
              "        vertical-align: middle;\n",
              "    }\n",
              "\n",
              "    .dataframe tbody tr th {\n",
              "        vertical-align: top;\n",
              "    }\n",
              "\n",
              "    .dataframe thead th {\n",
              "        text-align: right;\n",
              "    }\n",
              "</style>\n",
              "<table border=\"1\" class=\"dataframe\">\n",
              "  <thead>\n",
              "    <tr style=\"text-align: right;\">\n",
              "      <th></th>\n",
              "      <th>make</th>\n",
              "      <th>model</th>\n",
              "      <th>vehicle_year</th>\n",
              "      <th>mileage</th>\n",
              "      <th>engine_capacity</th>\n",
              "      <th>engine_power</th>\n",
              "      <th>gearbox</th>\n",
              "      <th>fuel_type</th>\n",
              "      <th>damaged</th>\n",
              "      <th>is_business</th>\n",
              "      <th>target_price</th>\n",
              "    </tr>\n",
              "  </thead>\n",
              "  <tbody>\n",
              "    <tr>\n",
              "      <th>0</th>\n",
              "      <td>audi</td>\n",
              "      <td>a6</td>\n",
              "      <td>2013</td>\n",
              "      <td>153817.0</td>\n",
              "      <td>1984.0</td>\n",
              "      <td>180.0</td>\n",
              "      <td>automatic</td>\n",
              "      <td>petrol</td>\n",
              "      <td>0</td>\n",
              "      <td>0</td>\n",
              "      <td>69900.0</td>\n",
              "    </tr>\n",
              "    <tr>\n",
              "      <th>1</th>\n",
              "      <td>skoda</td>\n",
              "      <td>fabia</td>\n",
              "      <td>2004</td>\n",
              "      <td>115000.0</td>\n",
              "      <td>1390.0</td>\n",
              "      <td>75.0</td>\n",
              "      <td>manual</td>\n",
              "      <td>petrol</td>\n",
              "      <td>0</td>\n",
              "      <td>1</td>\n",
              "      <td>8299.0</td>\n",
              "    </tr>\n",
              "    <tr>\n",
              "      <th>2</th>\n",
              "      <td>chevrolet</td>\n",
              "      <td>camaro</td>\n",
              "      <td>2012</td>\n",
              "      <td>299000.0</td>\n",
              "      <td>3600.0</td>\n",
              "      <td>323.0</td>\n",
              "      <td>automatic</td>\n",
              "      <td>petrol</td>\n",
              "      <td>0</td>\n",
              "      <td>1</td>\n",
              "      <td>54500.0</td>\n",
              "    </tr>\n",
              "    <tr>\n",
              "      <th>3</th>\n",
              "      <td>bmw</td>\n",
              "      <td>seria-3</td>\n",
              "      <td>2013</td>\n",
              "      <td>155000.0</td>\n",
              "      <td>1995.0</td>\n",
              "      <td>163.0</td>\n",
              "      <td>automatic</td>\n",
              "      <td>diesel</td>\n",
              "      <td>0</td>\n",
              "      <td>0</td>\n",
              "      <td>62000.0</td>\n",
              "    </tr>\n",
              "    <tr>\n",
              "      <th>4</th>\n",
              "      <td>renault</td>\n",
              "      <td>talisman</td>\n",
              "      <td>2017</td>\n",
              "      <td>167000.0</td>\n",
              "      <td>1600.0</td>\n",
              "      <td>130.0</td>\n",
              "      <td>automatic</td>\n",
              "      <td>diesel</td>\n",
              "      <td>0</td>\n",
              "      <td>1</td>\n",
              "      <td>52999.0</td>\n",
              "    </tr>\n",
              "  </tbody>\n",
              "</table>\n",
              "</div>"
            ],
            "text/plain": [
              "        make     model  vehicle_year  ...  damaged  is_business  target_price\n",
              "0       audi        a6          2013  ...        0            0       69900.0\n",
              "1      skoda     fabia          2004  ...        0            1        8299.0\n",
              "2  chevrolet    camaro          2012  ...        0            1       54500.0\n",
              "3        bmw   seria-3          2013  ...        0            0       62000.0\n",
              "4    renault  talisman          2017  ...        0            1       52999.0\n",
              "\n",
              "[5 rows x 11 columns]"
            ]
          },
          "metadata": {
            "tags": []
          },
          "execution_count": 2
        }
      ]
    },
    {
      "cell_type": "code",
      "metadata": {
        "id": "02Kf42iP88tw"
      },
      "source": [
        "import numpy as np\n",
        "\n",
        "import matplotlib.pyplot as plt\n",
        "import seaborn as sns"
      ],
      "execution_count": 3,
      "outputs": []
    },
    {
      "cell_type": "code",
      "metadata": {
        "colab": {
          "base_uri": "https://localhost:8080/"
        },
        "id": "AklSC5Hp9Ru5",
        "outputId": "ae36beb9-42d9-4d35-95ad-05b08acf0569"
      },
      "source": [
        "df.shape # checking number of rows and columns"
      ],
      "execution_count": 4,
      "outputs": [
        {
          "output_type": "execute_result",
          "data": {
            "text/plain": [
              "(206207, 11)"
            ]
          },
          "metadata": {
            "tags": []
          },
          "execution_count": 4
        }
      ]
    },
    {
      "cell_type": "code",
      "metadata": {
        "colab": {
          "base_uri": "https://localhost:8080/",
          "height": 297
        },
        "id": "--JRcWoq9XMb",
        "outputId": "1acd0af2-b453-4d87-ea10-dd54b723c1e5"
      },
      "source": [
        "df.describe() # summary of dataset"
      ],
      "execution_count": 5,
      "outputs": [
        {
          "output_type": "execute_result",
          "data": {
            "text/html": [
              "<div>\n",
              "<style scoped>\n",
              "    .dataframe tbody tr th:only-of-type {\n",
              "        vertical-align: middle;\n",
              "    }\n",
              "\n",
              "    .dataframe tbody tr th {\n",
              "        vertical-align: top;\n",
              "    }\n",
              "\n",
              "    .dataframe thead th {\n",
              "        text-align: right;\n",
              "    }\n",
              "</style>\n",
              "<table border=\"1\" class=\"dataframe\">\n",
              "  <thead>\n",
              "    <tr style=\"text-align: right;\">\n",
              "      <th></th>\n",
              "      <th>vehicle_year</th>\n",
              "      <th>mileage</th>\n",
              "      <th>engine_capacity</th>\n",
              "      <th>engine_power</th>\n",
              "      <th>damaged</th>\n",
              "      <th>is_business</th>\n",
              "      <th>target_price</th>\n",
              "    </tr>\n",
              "  </thead>\n",
              "  <tbody>\n",
              "    <tr>\n",
              "      <th>count</th>\n",
              "      <td>206207.000000</td>\n",
              "      <td>2.048530e+05</td>\n",
              "      <td>204029.000000</td>\n",
              "      <td>204628.000000</td>\n",
              "      <td>206207.000000</td>\n",
              "      <td>206207.000000</td>\n",
              "      <td>2.062070e+05</td>\n",
              "    </tr>\n",
              "    <tr>\n",
              "      <th>mean</th>\n",
              "      <td>2012.313855</td>\n",
              "      <td>6.656787e+05</td>\n",
              "      <td>1865.096922</td>\n",
              "      <td>151.300301</td>\n",
              "      <td>0.038059</td>\n",
              "      <td>0.600038</td>\n",
              "      <td>6.273519e+04</td>\n",
              "    </tr>\n",
              "    <tr>\n",
              "      <th>std</th>\n",
              "      <td>6.453940</td>\n",
              "      <td>2.040768e+08</td>\n",
              "      <td>708.559717</td>\n",
              "      <td>76.915073</td>\n",
              "      <td>0.191339</td>\n",
              "      <td>0.489891</td>\n",
              "      <td>8.604596e+04</td>\n",
              "    </tr>\n",
              "    <tr>\n",
              "      <th>min</th>\n",
              "      <td>1917.000000</td>\n",
              "      <td>1.000000e+00</td>\n",
              "      <td>400.000000</td>\n",
              "      <td>1.000000</td>\n",
              "      <td>0.000000</td>\n",
              "      <td>0.000000</td>\n",
              "      <td>6.000000e+02</td>\n",
              "    </tr>\n",
              "    <tr>\n",
              "      <th>25%</th>\n",
              "      <td>2008.000000</td>\n",
              "      <td>4.500000e+04</td>\n",
              "      <td>1461.000000</td>\n",
              "      <td>105.000000</td>\n",
              "      <td>0.000000</td>\n",
              "      <td>0.000000</td>\n",
              "      <td>1.799900e+04</td>\n",
              "    </tr>\n",
              "    <tr>\n",
              "      <th>50%</th>\n",
              "      <td>2013.000000</td>\n",
              "      <td>1.378500e+05</td>\n",
              "      <td>1797.000000</td>\n",
              "      <td>136.000000</td>\n",
              "      <td>0.000000</td>\n",
              "      <td>1.000000</td>\n",
              "      <td>3.590000e+04</td>\n",
              "    </tr>\n",
              "    <tr>\n",
              "      <th>75%</th>\n",
              "      <td>2017.000000</td>\n",
              "      <td>1.990000e+05</td>\n",
              "      <td>1997.000000</td>\n",
              "      <td>170.000000</td>\n",
              "      <td>0.000000</td>\n",
              "      <td>1.000000</td>\n",
              "      <td>7.490000e+04</td>\n",
              "    </tr>\n",
              "    <tr>\n",
              "      <th>max</th>\n",
              "      <td>2021.000000</td>\n",
              "      <td>9.060612e+10</td>\n",
              "      <td>8400.000000</td>\n",
              "      <td>1500.000000</td>\n",
              "      <td>1.000000</td>\n",
              "      <td>1.000000</td>\n",
              "      <td>5.250000e+06</td>\n",
              "    </tr>\n",
              "  </tbody>\n",
              "</table>\n",
              "</div>"
            ],
            "text/plain": [
              "        vehicle_year       mileage  ...    is_business  target_price\n",
              "count  206207.000000  2.048530e+05  ...  206207.000000  2.062070e+05\n",
              "mean     2012.313855  6.656787e+05  ...       0.600038  6.273519e+04\n",
              "std         6.453940  2.040768e+08  ...       0.489891  8.604596e+04\n",
              "min      1917.000000  1.000000e+00  ...       0.000000  6.000000e+02\n",
              "25%      2008.000000  4.500000e+04  ...       0.000000  1.799900e+04\n",
              "50%      2013.000000  1.378500e+05  ...       1.000000  3.590000e+04\n",
              "75%      2017.000000  1.990000e+05  ...       1.000000  7.490000e+04\n",
              "max      2021.000000  9.060612e+10  ...       1.000000  5.250000e+06\n",
              "\n",
              "[8 rows x 7 columns]"
            ]
          },
          "metadata": {
            "tags": []
          },
          "execution_count": 5
        }
      ]
    },
    {
      "cell_type": "code",
      "metadata": {
        "colab": {
          "base_uri": "https://localhost:8080/"
        },
        "id": "-IgD2ic69aq0",
        "outputId": "7d8b5194-b74e-410d-e6cc-9052426f58c3"
      },
      "source": [
        "df.info()"
      ],
      "execution_count": 6,
      "outputs": [
        {
          "output_type": "stream",
          "text": [
            "<class 'pandas.core.frame.DataFrame'>\n",
            "RangeIndex: 206207 entries, 0 to 206206\n",
            "Data columns (total 11 columns):\n",
            " #   Column           Non-Null Count   Dtype  \n",
            "---  ------           --------------   -----  \n",
            " 0   make             206207 non-null  object \n",
            " 1   model            206207 non-null  object \n",
            " 2   vehicle_year     206207 non-null  int64  \n",
            " 3   mileage          204853 non-null  float64\n",
            " 4   engine_capacity  204029 non-null  float64\n",
            " 5   engine_power     204628 non-null  float64\n",
            " 6   gearbox          204842 non-null  object \n",
            " 7   fuel_type        206207 non-null  object \n",
            " 8   damaged          206207 non-null  int64  \n",
            " 9   is_business      206207 non-null  int64  \n",
            " 10  target_price     206207 non-null  float64\n",
            "dtypes: float64(4), int64(3), object(4)\n",
            "memory usage: 17.3+ MB\n"
          ],
          "name": "stdout"
        }
      ]
    },
    {
      "cell_type": "code",
      "metadata": {
        "colab": {
          "base_uri": "https://localhost:8080/"
        },
        "id": "X42i4fvA9dY-",
        "outputId": "141d0856-b640-477a-c461-7bdbdfac5882"
      },
      "source": [
        "df.columns"
      ],
      "execution_count": 7,
      "outputs": [
        {
          "output_type": "execute_result",
          "data": {
            "text/plain": [
              "Index(['make', 'model', 'vehicle_year', 'mileage', 'engine_capacity',\n",
              "       'engine_power', 'gearbox', 'fuel_type', 'damaged', 'is_business',\n",
              "       'target_price'],\n",
              "      dtype='object')"
            ]
          },
          "metadata": {
            "tags": []
          },
          "execution_count": 7
        }
      ]
    },
    {
      "cell_type": "code",
      "metadata": {
        "colab": {
          "base_uri": "https://localhost:8080/"
        },
        "id": "UBw2VgK591s0",
        "outputId": "be5a19f9-8f0a-4a3a-ba48-d98f2fdb134b"
      },
      "source": [
        "# Checking Null values\n",
        "df.isnull().sum()\n"
      ],
      "execution_count": 8,
      "outputs": [
        {
          "output_type": "execute_result",
          "data": {
            "text/plain": [
              "make                  0\n",
              "model                 0\n",
              "vehicle_year          0\n",
              "mileage            1354\n",
              "engine_capacity    2178\n",
              "engine_power       1579\n",
              "gearbox            1365\n",
              "fuel_type             0\n",
              "damaged               0\n",
              "is_business           0\n",
              "target_price          0\n",
              "dtype: int64"
            ]
          },
          "metadata": {
            "tags": []
          },
          "execution_count": 8
        }
      ]
    },
    {
      "cell_type": "code",
      "metadata": {
        "id": "HmxcsCBm_KnH"
      },
      "source": [
        "df.dropna(inplace=True) # drop NA values"
      ],
      "execution_count": 9,
      "outputs": []
    },
    {
      "cell_type": "code",
      "metadata": {
        "colab": {
          "base_uri": "https://localhost:8080/"
        },
        "id": "lhmmROWS_d4s",
        "outputId": "5bb85b45-ea0f-417e-a565-230b0dc00def"
      },
      "source": [
        "df.isnull().sum()"
      ],
      "execution_count": 10,
      "outputs": [
        {
          "output_type": "execute_result",
          "data": {
            "text/plain": [
              "make               0\n",
              "model              0\n",
              "vehicle_year       0\n",
              "mileage            0\n",
              "engine_capacity    0\n",
              "engine_power       0\n",
              "gearbox            0\n",
              "fuel_type          0\n",
              "damaged            0\n",
              "is_business        0\n",
              "target_price       0\n",
              "dtype: int64"
            ]
          },
          "metadata": {
            "tags": []
          },
          "execution_count": 10
        }
      ]
    },
    {
      "cell_type": "code",
      "metadata": {
        "id": "LJTbgeIn_f-2"
      },
      "source": [
        "final_dataset=df[['make', 'model', 'vehicle_year', 'mileage', 'engine_capacity',\n",
        "       'engine_power', 'gearbox', 'fuel_type', 'damaged', 'is_business',\n",
        "       'target_price']]"
      ],
      "execution_count": 11,
      "outputs": []
    },
    {
      "cell_type": "code",
      "metadata": {
        "colab": {
          "base_uri": "https://localhost:8080/",
          "height": 204
        },
        "id": "u-tmynBSAtRq",
        "outputId": "6086f068-aa4e-41f3-f3b8-a631f7b4e1ce"
      },
      "source": [
        "final_dataset.head() # Final dataset"
      ],
      "execution_count": 12,
      "outputs": [
        {
          "output_type": "execute_result",
          "data": {
            "text/html": [
              "<div>\n",
              "<style scoped>\n",
              "    .dataframe tbody tr th:only-of-type {\n",
              "        vertical-align: middle;\n",
              "    }\n",
              "\n",
              "    .dataframe tbody tr th {\n",
              "        vertical-align: top;\n",
              "    }\n",
              "\n",
              "    .dataframe thead th {\n",
              "        text-align: right;\n",
              "    }\n",
              "</style>\n",
              "<table border=\"1\" class=\"dataframe\">\n",
              "  <thead>\n",
              "    <tr style=\"text-align: right;\">\n",
              "      <th></th>\n",
              "      <th>make</th>\n",
              "      <th>model</th>\n",
              "      <th>vehicle_year</th>\n",
              "      <th>mileage</th>\n",
              "      <th>engine_capacity</th>\n",
              "      <th>engine_power</th>\n",
              "      <th>gearbox</th>\n",
              "      <th>fuel_type</th>\n",
              "      <th>damaged</th>\n",
              "      <th>is_business</th>\n",
              "      <th>target_price</th>\n",
              "    </tr>\n",
              "  </thead>\n",
              "  <tbody>\n",
              "    <tr>\n",
              "      <th>0</th>\n",
              "      <td>audi</td>\n",
              "      <td>a6</td>\n",
              "      <td>2013</td>\n",
              "      <td>153817.0</td>\n",
              "      <td>1984.0</td>\n",
              "      <td>180.0</td>\n",
              "      <td>automatic</td>\n",
              "      <td>petrol</td>\n",
              "      <td>0</td>\n",
              "      <td>0</td>\n",
              "      <td>69900.0</td>\n",
              "    </tr>\n",
              "    <tr>\n",
              "      <th>1</th>\n",
              "      <td>skoda</td>\n",
              "      <td>fabia</td>\n",
              "      <td>2004</td>\n",
              "      <td>115000.0</td>\n",
              "      <td>1390.0</td>\n",
              "      <td>75.0</td>\n",
              "      <td>manual</td>\n",
              "      <td>petrol</td>\n",
              "      <td>0</td>\n",
              "      <td>1</td>\n",
              "      <td>8299.0</td>\n",
              "    </tr>\n",
              "    <tr>\n",
              "      <th>2</th>\n",
              "      <td>chevrolet</td>\n",
              "      <td>camaro</td>\n",
              "      <td>2012</td>\n",
              "      <td>299000.0</td>\n",
              "      <td>3600.0</td>\n",
              "      <td>323.0</td>\n",
              "      <td>automatic</td>\n",
              "      <td>petrol</td>\n",
              "      <td>0</td>\n",
              "      <td>1</td>\n",
              "      <td>54500.0</td>\n",
              "    </tr>\n",
              "    <tr>\n",
              "      <th>3</th>\n",
              "      <td>bmw</td>\n",
              "      <td>seria-3</td>\n",
              "      <td>2013</td>\n",
              "      <td>155000.0</td>\n",
              "      <td>1995.0</td>\n",
              "      <td>163.0</td>\n",
              "      <td>automatic</td>\n",
              "      <td>diesel</td>\n",
              "      <td>0</td>\n",
              "      <td>0</td>\n",
              "      <td>62000.0</td>\n",
              "    </tr>\n",
              "    <tr>\n",
              "      <th>4</th>\n",
              "      <td>renault</td>\n",
              "      <td>talisman</td>\n",
              "      <td>2017</td>\n",
              "      <td>167000.0</td>\n",
              "      <td>1600.0</td>\n",
              "      <td>130.0</td>\n",
              "      <td>automatic</td>\n",
              "      <td>diesel</td>\n",
              "      <td>0</td>\n",
              "      <td>1</td>\n",
              "      <td>52999.0</td>\n",
              "    </tr>\n",
              "  </tbody>\n",
              "</table>\n",
              "</div>"
            ],
            "text/plain": [
              "        make     model  vehicle_year  ...  damaged  is_business  target_price\n",
              "0       audi        a6          2013  ...        0            0       69900.0\n",
              "1      skoda     fabia          2004  ...        0            1        8299.0\n",
              "2  chevrolet    camaro          2012  ...        0            1       54500.0\n",
              "3        bmw   seria-3          2013  ...        0            0       62000.0\n",
              "4    renault  talisman          2017  ...        0            1       52999.0\n",
              "\n",
              "[5 rows x 11 columns]"
            ]
          },
          "metadata": {
            "tags": []
          },
          "execution_count": 12
        }
      ]
    },
    {
      "cell_type": "code",
      "metadata": {
        "id": "J2IilJ_JA56A"
      },
      "source": [
        "final_dataset['Current Year']=2021 # adding current year to see vehicles price comparison"
      ],
      "execution_count": 13,
      "outputs": []
    },
    {
      "cell_type": "code",
      "metadata": {
        "colab": {
          "base_uri": "https://localhost:8080/",
          "height": 204
        },
        "id": "WP1o711pA8XI",
        "outputId": "c9f695a1-a094-47cf-9f46-91da9f1a1cfc"
      },
      "source": [
        "\n",
        "final_dataset.head()"
      ],
      "execution_count": 14,
      "outputs": [
        {
          "output_type": "execute_result",
          "data": {
            "text/html": [
              "<div>\n",
              "<style scoped>\n",
              "    .dataframe tbody tr th:only-of-type {\n",
              "        vertical-align: middle;\n",
              "    }\n",
              "\n",
              "    .dataframe tbody tr th {\n",
              "        vertical-align: top;\n",
              "    }\n",
              "\n",
              "    .dataframe thead th {\n",
              "        text-align: right;\n",
              "    }\n",
              "</style>\n",
              "<table border=\"1\" class=\"dataframe\">\n",
              "  <thead>\n",
              "    <tr style=\"text-align: right;\">\n",
              "      <th></th>\n",
              "      <th>make</th>\n",
              "      <th>model</th>\n",
              "      <th>vehicle_year</th>\n",
              "      <th>mileage</th>\n",
              "      <th>engine_capacity</th>\n",
              "      <th>engine_power</th>\n",
              "      <th>gearbox</th>\n",
              "      <th>fuel_type</th>\n",
              "      <th>damaged</th>\n",
              "      <th>is_business</th>\n",
              "      <th>target_price</th>\n",
              "      <th>Current Year</th>\n",
              "    </tr>\n",
              "  </thead>\n",
              "  <tbody>\n",
              "    <tr>\n",
              "      <th>0</th>\n",
              "      <td>audi</td>\n",
              "      <td>a6</td>\n",
              "      <td>2013</td>\n",
              "      <td>153817.0</td>\n",
              "      <td>1984.0</td>\n",
              "      <td>180.0</td>\n",
              "      <td>automatic</td>\n",
              "      <td>petrol</td>\n",
              "      <td>0</td>\n",
              "      <td>0</td>\n",
              "      <td>69900.0</td>\n",
              "      <td>2021</td>\n",
              "    </tr>\n",
              "    <tr>\n",
              "      <th>1</th>\n",
              "      <td>skoda</td>\n",
              "      <td>fabia</td>\n",
              "      <td>2004</td>\n",
              "      <td>115000.0</td>\n",
              "      <td>1390.0</td>\n",
              "      <td>75.0</td>\n",
              "      <td>manual</td>\n",
              "      <td>petrol</td>\n",
              "      <td>0</td>\n",
              "      <td>1</td>\n",
              "      <td>8299.0</td>\n",
              "      <td>2021</td>\n",
              "    </tr>\n",
              "    <tr>\n",
              "      <th>2</th>\n",
              "      <td>chevrolet</td>\n",
              "      <td>camaro</td>\n",
              "      <td>2012</td>\n",
              "      <td>299000.0</td>\n",
              "      <td>3600.0</td>\n",
              "      <td>323.0</td>\n",
              "      <td>automatic</td>\n",
              "      <td>petrol</td>\n",
              "      <td>0</td>\n",
              "      <td>1</td>\n",
              "      <td>54500.0</td>\n",
              "      <td>2021</td>\n",
              "    </tr>\n",
              "    <tr>\n",
              "      <th>3</th>\n",
              "      <td>bmw</td>\n",
              "      <td>seria-3</td>\n",
              "      <td>2013</td>\n",
              "      <td>155000.0</td>\n",
              "      <td>1995.0</td>\n",
              "      <td>163.0</td>\n",
              "      <td>automatic</td>\n",
              "      <td>diesel</td>\n",
              "      <td>0</td>\n",
              "      <td>0</td>\n",
              "      <td>62000.0</td>\n",
              "      <td>2021</td>\n",
              "    </tr>\n",
              "    <tr>\n",
              "      <th>4</th>\n",
              "      <td>renault</td>\n",
              "      <td>talisman</td>\n",
              "      <td>2017</td>\n",
              "      <td>167000.0</td>\n",
              "      <td>1600.0</td>\n",
              "      <td>130.0</td>\n",
              "      <td>automatic</td>\n",
              "      <td>diesel</td>\n",
              "      <td>0</td>\n",
              "      <td>1</td>\n",
              "      <td>52999.0</td>\n",
              "      <td>2021</td>\n",
              "    </tr>\n",
              "  </tbody>\n",
              "</table>\n",
              "</div>"
            ],
            "text/plain": [
              "        make     model  vehicle_year  ...  is_business  target_price  Current Year\n",
              "0       audi        a6          2013  ...            0       69900.0          2021\n",
              "1      skoda     fabia          2004  ...            1        8299.0          2021\n",
              "2  chevrolet    camaro          2012  ...            1       54500.0          2021\n",
              "3        bmw   seria-3          2013  ...            0       62000.0          2021\n",
              "4    renault  talisman          2017  ...            1       52999.0          2021\n",
              "\n",
              "[5 rows x 12 columns]"
            ]
          },
          "metadata": {
            "tags": []
          },
          "execution_count": 14
        }
      ]
    },
    {
      "cell_type": "code",
      "metadata": {
        "id": "x0LCelziA-SR"
      },
      "source": [
        "final_dataset['no_year']=final_dataset['Current Year']- final_dataset['vehicle_year']"
      ],
      "execution_count": 15,
      "outputs": []
    },
    {
      "cell_type": "code",
      "metadata": {
        "colab": {
          "base_uri": "https://localhost:8080/",
          "height": 204
        },
        "id": "eYvVlZ_nBA_X",
        "outputId": "7c72f204-58b8-4835-fcad-c44653cf8f27"
      },
      "source": [
        "final_dataset.head()"
      ],
      "execution_count": 16,
      "outputs": [
        {
          "output_type": "execute_result",
          "data": {
            "text/html": [
              "<div>\n",
              "<style scoped>\n",
              "    .dataframe tbody tr th:only-of-type {\n",
              "        vertical-align: middle;\n",
              "    }\n",
              "\n",
              "    .dataframe tbody tr th {\n",
              "        vertical-align: top;\n",
              "    }\n",
              "\n",
              "    .dataframe thead th {\n",
              "        text-align: right;\n",
              "    }\n",
              "</style>\n",
              "<table border=\"1\" class=\"dataframe\">\n",
              "  <thead>\n",
              "    <tr style=\"text-align: right;\">\n",
              "      <th></th>\n",
              "      <th>make</th>\n",
              "      <th>model</th>\n",
              "      <th>vehicle_year</th>\n",
              "      <th>mileage</th>\n",
              "      <th>engine_capacity</th>\n",
              "      <th>engine_power</th>\n",
              "      <th>gearbox</th>\n",
              "      <th>fuel_type</th>\n",
              "      <th>damaged</th>\n",
              "      <th>is_business</th>\n",
              "      <th>target_price</th>\n",
              "      <th>Current Year</th>\n",
              "      <th>no_year</th>\n",
              "    </tr>\n",
              "  </thead>\n",
              "  <tbody>\n",
              "    <tr>\n",
              "      <th>0</th>\n",
              "      <td>audi</td>\n",
              "      <td>a6</td>\n",
              "      <td>2013</td>\n",
              "      <td>153817.0</td>\n",
              "      <td>1984.0</td>\n",
              "      <td>180.0</td>\n",
              "      <td>automatic</td>\n",
              "      <td>petrol</td>\n",
              "      <td>0</td>\n",
              "      <td>0</td>\n",
              "      <td>69900.0</td>\n",
              "      <td>2021</td>\n",
              "      <td>8</td>\n",
              "    </tr>\n",
              "    <tr>\n",
              "      <th>1</th>\n",
              "      <td>skoda</td>\n",
              "      <td>fabia</td>\n",
              "      <td>2004</td>\n",
              "      <td>115000.0</td>\n",
              "      <td>1390.0</td>\n",
              "      <td>75.0</td>\n",
              "      <td>manual</td>\n",
              "      <td>petrol</td>\n",
              "      <td>0</td>\n",
              "      <td>1</td>\n",
              "      <td>8299.0</td>\n",
              "      <td>2021</td>\n",
              "      <td>17</td>\n",
              "    </tr>\n",
              "    <tr>\n",
              "      <th>2</th>\n",
              "      <td>chevrolet</td>\n",
              "      <td>camaro</td>\n",
              "      <td>2012</td>\n",
              "      <td>299000.0</td>\n",
              "      <td>3600.0</td>\n",
              "      <td>323.0</td>\n",
              "      <td>automatic</td>\n",
              "      <td>petrol</td>\n",
              "      <td>0</td>\n",
              "      <td>1</td>\n",
              "      <td>54500.0</td>\n",
              "      <td>2021</td>\n",
              "      <td>9</td>\n",
              "    </tr>\n",
              "    <tr>\n",
              "      <th>3</th>\n",
              "      <td>bmw</td>\n",
              "      <td>seria-3</td>\n",
              "      <td>2013</td>\n",
              "      <td>155000.0</td>\n",
              "      <td>1995.0</td>\n",
              "      <td>163.0</td>\n",
              "      <td>automatic</td>\n",
              "      <td>diesel</td>\n",
              "      <td>0</td>\n",
              "      <td>0</td>\n",
              "      <td>62000.0</td>\n",
              "      <td>2021</td>\n",
              "      <td>8</td>\n",
              "    </tr>\n",
              "    <tr>\n",
              "      <th>4</th>\n",
              "      <td>renault</td>\n",
              "      <td>talisman</td>\n",
              "      <td>2017</td>\n",
              "      <td>167000.0</td>\n",
              "      <td>1600.0</td>\n",
              "      <td>130.0</td>\n",
              "      <td>automatic</td>\n",
              "      <td>diesel</td>\n",
              "      <td>0</td>\n",
              "      <td>1</td>\n",
              "      <td>52999.0</td>\n",
              "      <td>2021</td>\n",
              "      <td>4</td>\n",
              "    </tr>\n",
              "  </tbody>\n",
              "</table>\n",
              "</div>"
            ],
            "text/plain": [
              "        make     model  vehicle_year  ...  target_price  Current Year  no_year\n",
              "0       audi        a6          2013  ...       69900.0          2021        8\n",
              "1      skoda     fabia          2004  ...        8299.0          2021       17\n",
              "2  chevrolet    camaro          2012  ...       54500.0          2021        9\n",
              "3        bmw   seria-3          2013  ...       62000.0          2021        8\n",
              "4    renault  talisman          2017  ...       52999.0          2021        4\n",
              "\n",
              "[5 rows x 13 columns]"
            ]
          },
          "metadata": {
            "tags": []
          },
          "execution_count": 16
        }
      ]
    },
    {
      "cell_type": "code",
      "metadata": {
        "id": "14wwOXtpBKzY"
      },
      "source": [
        "final_dataset.drop(['vehicle_year'],axis=1,inplace=True)"
      ],
      "execution_count": 17,
      "outputs": []
    },
    {
      "cell_type": "code",
      "metadata": {
        "colab": {
          "base_uri": "https://localhost:8080/",
          "height": 204
        },
        "id": "C0wXO3agBNo2",
        "outputId": "8850a5be-d45d-493a-864c-6f49ab609249"
      },
      "source": [
        "final_dataset.head()"
      ],
      "execution_count": 18,
      "outputs": [
        {
          "output_type": "execute_result",
          "data": {
            "text/html": [
              "<div>\n",
              "<style scoped>\n",
              "    .dataframe tbody tr th:only-of-type {\n",
              "        vertical-align: middle;\n",
              "    }\n",
              "\n",
              "    .dataframe tbody tr th {\n",
              "        vertical-align: top;\n",
              "    }\n",
              "\n",
              "    .dataframe thead th {\n",
              "        text-align: right;\n",
              "    }\n",
              "</style>\n",
              "<table border=\"1\" class=\"dataframe\">\n",
              "  <thead>\n",
              "    <tr style=\"text-align: right;\">\n",
              "      <th></th>\n",
              "      <th>make</th>\n",
              "      <th>model</th>\n",
              "      <th>mileage</th>\n",
              "      <th>engine_capacity</th>\n",
              "      <th>engine_power</th>\n",
              "      <th>gearbox</th>\n",
              "      <th>fuel_type</th>\n",
              "      <th>damaged</th>\n",
              "      <th>is_business</th>\n",
              "      <th>target_price</th>\n",
              "      <th>Current Year</th>\n",
              "      <th>no_year</th>\n",
              "    </tr>\n",
              "  </thead>\n",
              "  <tbody>\n",
              "    <tr>\n",
              "      <th>0</th>\n",
              "      <td>audi</td>\n",
              "      <td>a6</td>\n",
              "      <td>153817.0</td>\n",
              "      <td>1984.0</td>\n",
              "      <td>180.0</td>\n",
              "      <td>automatic</td>\n",
              "      <td>petrol</td>\n",
              "      <td>0</td>\n",
              "      <td>0</td>\n",
              "      <td>69900.0</td>\n",
              "      <td>2021</td>\n",
              "      <td>8</td>\n",
              "    </tr>\n",
              "    <tr>\n",
              "      <th>1</th>\n",
              "      <td>skoda</td>\n",
              "      <td>fabia</td>\n",
              "      <td>115000.0</td>\n",
              "      <td>1390.0</td>\n",
              "      <td>75.0</td>\n",
              "      <td>manual</td>\n",
              "      <td>petrol</td>\n",
              "      <td>0</td>\n",
              "      <td>1</td>\n",
              "      <td>8299.0</td>\n",
              "      <td>2021</td>\n",
              "      <td>17</td>\n",
              "    </tr>\n",
              "    <tr>\n",
              "      <th>2</th>\n",
              "      <td>chevrolet</td>\n",
              "      <td>camaro</td>\n",
              "      <td>299000.0</td>\n",
              "      <td>3600.0</td>\n",
              "      <td>323.0</td>\n",
              "      <td>automatic</td>\n",
              "      <td>petrol</td>\n",
              "      <td>0</td>\n",
              "      <td>1</td>\n",
              "      <td>54500.0</td>\n",
              "      <td>2021</td>\n",
              "      <td>9</td>\n",
              "    </tr>\n",
              "    <tr>\n",
              "      <th>3</th>\n",
              "      <td>bmw</td>\n",
              "      <td>seria-3</td>\n",
              "      <td>155000.0</td>\n",
              "      <td>1995.0</td>\n",
              "      <td>163.0</td>\n",
              "      <td>automatic</td>\n",
              "      <td>diesel</td>\n",
              "      <td>0</td>\n",
              "      <td>0</td>\n",
              "      <td>62000.0</td>\n",
              "      <td>2021</td>\n",
              "      <td>8</td>\n",
              "    </tr>\n",
              "    <tr>\n",
              "      <th>4</th>\n",
              "      <td>renault</td>\n",
              "      <td>talisman</td>\n",
              "      <td>167000.0</td>\n",
              "      <td>1600.0</td>\n",
              "      <td>130.0</td>\n",
              "      <td>automatic</td>\n",
              "      <td>diesel</td>\n",
              "      <td>0</td>\n",
              "      <td>1</td>\n",
              "      <td>52999.0</td>\n",
              "      <td>2021</td>\n",
              "      <td>4</td>\n",
              "    </tr>\n",
              "  </tbody>\n",
              "</table>\n",
              "</div>"
            ],
            "text/plain": [
              "        make     model   mileage  ...  target_price  Current Year no_year\n",
              "0       audi        a6  153817.0  ...       69900.0          2021       8\n",
              "1      skoda     fabia  115000.0  ...        8299.0          2021      17\n",
              "2  chevrolet    camaro  299000.0  ...       54500.0          2021       9\n",
              "3        bmw   seria-3  155000.0  ...       62000.0          2021       8\n",
              "4    renault  talisman  167000.0  ...       52999.0          2021       4\n",
              "\n",
              "[5 rows x 12 columns]"
            ]
          },
          "metadata": {
            "tags": []
          },
          "execution_count": 18
        }
      ]
    },
    {
      "cell_type": "code",
      "metadata": {
        "colab": {
          "base_uri": "https://localhost:8080/",
          "height": 204
        },
        "id": "54LE48gUEJ1H",
        "outputId": "77f3c4f1-8e4b-400d-b65c-2ea3f8c198ae"
      },
      "source": [
        "final_dataset=final_dataset.drop(['Current Year'],axis=1)\n",
        "\n",
        "final_dataset.head()"
      ],
      "execution_count": 19,
      "outputs": [
        {
          "output_type": "execute_result",
          "data": {
            "text/html": [
              "<div>\n",
              "<style scoped>\n",
              "    .dataframe tbody tr th:only-of-type {\n",
              "        vertical-align: middle;\n",
              "    }\n",
              "\n",
              "    .dataframe tbody tr th {\n",
              "        vertical-align: top;\n",
              "    }\n",
              "\n",
              "    .dataframe thead th {\n",
              "        text-align: right;\n",
              "    }\n",
              "</style>\n",
              "<table border=\"1\" class=\"dataframe\">\n",
              "  <thead>\n",
              "    <tr style=\"text-align: right;\">\n",
              "      <th></th>\n",
              "      <th>make</th>\n",
              "      <th>model</th>\n",
              "      <th>mileage</th>\n",
              "      <th>engine_capacity</th>\n",
              "      <th>engine_power</th>\n",
              "      <th>gearbox</th>\n",
              "      <th>fuel_type</th>\n",
              "      <th>damaged</th>\n",
              "      <th>is_business</th>\n",
              "      <th>target_price</th>\n",
              "      <th>no_year</th>\n",
              "    </tr>\n",
              "  </thead>\n",
              "  <tbody>\n",
              "    <tr>\n",
              "      <th>0</th>\n",
              "      <td>audi</td>\n",
              "      <td>a6</td>\n",
              "      <td>153817.0</td>\n",
              "      <td>1984.0</td>\n",
              "      <td>180.0</td>\n",
              "      <td>automatic</td>\n",
              "      <td>petrol</td>\n",
              "      <td>0</td>\n",
              "      <td>0</td>\n",
              "      <td>69900.0</td>\n",
              "      <td>8</td>\n",
              "    </tr>\n",
              "    <tr>\n",
              "      <th>1</th>\n",
              "      <td>skoda</td>\n",
              "      <td>fabia</td>\n",
              "      <td>115000.0</td>\n",
              "      <td>1390.0</td>\n",
              "      <td>75.0</td>\n",
              "      <td>manual</td>\n",
              "      <td>petrol</td>\n",
              "      <td>0</td>\n",
              "      <td>1</td>\n",
              "      <td>8299.0</td>\n",
              "      <td>17</td>\n",
              "    </tr>\n",
              "    <tr>\n",
              "      <th>2</th>\n",
              "      <td>chevrolet</td>\n",
              "      <td>camaro</td>\n",
              "      <td>299000.0</td>\n",
              "      <td>3600.0</td>\n",
              "      <td>323.0</td>\n",
              "      <td>automatic</td>\n",
              "      <td>petrol</td>\n",
              "      <td>0</td>\n",
              "      <td>1</td>\n",
              "      <td>54500.0</td>\n",
              "      <td>9</td>\n",
              "    </tr>\n",
              "    <tr>\n",
              "      <th>3</th>\n",
              "      <td>bmw</td>\n",
              "      <td>seria-3</td>\n",
              "      <td>155000.0</td>\n",
              "      <td>1995.0</td>\n",
              "      <td>163.0</td>\n",
              "      <td>automatic</td>\n",
              "      <td>diesel</td>\n",
              "      <td>0</td>\n",
              "      <td>0</td>\n",
              "      <td>62000.0</td>\n",
              "      <td>8</td>\n",
              "    </tr>\n",
              "    <tr>\n",
              "      <th>4</th>\n",
              "      <td>renault</td>\n",
              "      <td>talisman</td>\n",
              "      <td>167000.0</td>\n",
              "      <td>1600.0</td>\n",
              "      <td>130.0</td>\n",
              "      <td>automatic</td>\n",
              "      <td>diesel</td>\n",
              "      <td>0</td>\n",
              "      <td>1</td>\n",
              "      <td>52999.0</td>\n",
              "      <td>4</td>\n",
              "    </tr>\n",
              "  </tbody>\n",
              "</table>\n",
              "</div>"
            ],
            "text/plain": [
              "        make     model   mileage  ...  is_business  target_price no_year\n",
              "0       audi        a6  153817.0  ...            0       69900.0       8\n",
              "1      skoda     fabia  115000.0  ...            1        8299.0      17\n",
              "2  chevrolet    camaro  299000.0  ...            1       54500.0       9\n",
              "3        bmw   seria-3  155000.0  ...            0       62000.0       8\n",
              "4    renault  talisman  167000.0  ...            1       52999.0       4\n",
              "\n",
              "[5 rows x 11 columns]"
            ]
          },
          "metadata": {
            "tags": []
          },
          "execution_count": 19
        }
      ]
    },
    {
      "cell_type": "code",
      "metadata": {
        "id": "zZPd1UrHEOhK"
      },
      "source": [
        "# Import label encoder \n",
        "from sklearn import preprocessing\n",
        "# label_encoder object knows how to understand word labels. \n",
        "label_encoder = preprocessing.LabelEncoder()\n",
        "\n",
        "final_dataset['make']= label_encoder.fit_transform(final_dataset['make']) \n",
        "\n",
        "final_dataset['model']= label_encoder.fit_transform(final_dataset['model']) \n",
        "\n",
        "final_dataset['gearbox']= label_encoder.fit_transform(final_dataset['gearbox']) \n",
        "\n",
        "final_dataset['fuel_type']= label_encoder.fit_transform(final_dataset['fuel_type']) \n",
        "\n"
      ],
      "execution_count": 20,
      "outputs": []
    },
    {
      "cell_type": "code",
      "metadata": {
        "colab": {
          "base_uri": "https://localhost:8080/",
          "height": 204
        },
        "id": "nr1xeXbYvThO",
        "outputId": "ab3f9ed1-cf9a-4ef3-f2e2-08828c149101"
      },
      "source": [
        "final_dataset.head()"
      ],
      "execution_count": 21,
      "outputs": [
        {
          "output_type": "execute_result",
          "data": {
            "text/html": [
              "<div>\n",
              "<style scoped>\n",
              "    .dataframe tbody tr th:only-of-type {\n",
              "        vertical-align: middle;\n",
              "    }\n",
              "\n",
              "    .dataframe tbody tr th {\n",
              "        vertical-align: top;\n",
              "    }\n",
              "\n",
              "    .dataframe thead th {\n",
              "        text-align: right;\n",
              "    }\n",
              "</style>\n",
              "<table border=\"1\" class=\"dataframe\">\n",
              "  <thead>\n",
              "    <tr style=\"text-align: right;\">\n",
              "      <th></th>\n",
              "      <th>make</th>\n",
              "      <th>model</th>\n",
              "      <th>mileage</th>\n",
              "      <th>engine_capacity</th>\n",
              "      <th>engine_power</th>\n",
              "      <th>gearbox</th>\n",
              "      <th>fuel_type</th>\n",
              "      <th>damaged</th>\n",
              "      <th>is_business</th>\n",
              "      <th>target_price</th>\n",
              "      <th>no_year</th>\n",
              "    </tr>\n",
              "  </thead>\n",
              "  <tbody>\n",
              "    <tr>\n",
              "      <th>0</th>\n",
              "      <td>6</td>\n",
              "      <td>169</td>\n",
              "      <td>153817.0</td>\n",
              "      <td>1984.0</td>\n",
              "      <td>180.0</td>\n",
              "      <td>1</td>\n",
              "      <td>4</td>\n",
              "      <td>0</td>\n",
              "      <td>0</td>\n",
              "      <td>69900.0</td>\n",
              "      <td>8</td>\n",
              "    </tr>\n",
              "    <tr>\n",
              "      <th>1</th>\n",
              "      <td>83</td>\n",
              "      <td>452</td>\n",
              "      <td>115000.0</td>\n",
              "      <td>1390.0</td>\n",
              "      <td>75.0</td>\n",
              "      <td>7</td>\n",
              "      <td>4</td>\n",
              "      <td>0</td>\n",
              "      <td>1</td>\n",
              "      <td>8299.0</td>\n",
              "      <td>17</td>\n",
              "    </tr>\n",
              "    <tr>\n",
              "      <th>2</th>\n",
              "      <td>17</td>\n",
              "      <td>284</td>\n",
              "      <td>299000.0</td>\n",
              "      <td>3600.0</td>\n",
              "      <td>323.0</td>\n",
              "      <td>1</td>\n",
              "      <td>4</td>\n",
              "      <td>0</td>\n",
              "      <td>1</td>\n",
              "      <td>54500.0</td>\n",
              "      <td>9</td>\n",
              "    </tr>\n",
              "    <tr>\n",
              "      <th>3</th>\n",
              "      <td>11</td>\n",
              "      <td>902</td>\n",
              "      <td>155000.0</td>\n",
              "      <td>1995.0</td>\n",
              "      <td>163.0</td>\n",
              "      <td>1</td>\n",
              "      <td>0</td>\n",
              "      <td>0</td>\n",
              "      <td>0</td>\n",
              "      <td>62000.0</td>\n",
              "      <td>8</td>\n",
              "    </tr>\n",
              "    <tr>\n",
              "      <th>4</th>\n",
              "      <td>75</td>\n",
              "      <td>987</td>\n",
              "      <td>167000.0</td>\n",
              "      <td>1600.0</td>\n",
              "      <td>130.0</td>\n",
              "      <td>1</td>\n",
              "      <td>0</td>\n",
              "      <td>0</td>\n",
              "      <td>1</td>\n",
              "      <td>52999.0</td>\n",
              "      <td>4</td>\n",
              "    </tr>\n",
              "  </tbody>\n",
              "</table>\n",
              "</div>"
            ],
            "text/plain": [
              "   make  model   mileage  ...  is_business  target_price  no_year\n",
              "0     6    169  153817.0  ...            0       69900.0        8\n",
              "1    83    452  115000.0  ...            1        8299.0       17\n",
              "2    17    284  299000.0  ...            1       54500.0        9\n",
              "3    11    902  155000.0  ...            0       62000.0        8\n",
              "4    75    987  167000.0  ...            1       52999.0        4\n",
              "\n",
              "[5 rows x 11 columns]"
            ]
          },
          "metadata": {
            "tags": []
          },
          "execution_count": 21
        }
      ]
    },
    {
      "cell_type": "code",
      "metadata": {
        "id": "ADykVIb8vhX0"
      },
      "source": [
        "# Define input values, or X by dropping the target values:\n",
        "X = final_dataset.drop(['target_price'], axis = 1)\n",
        "\n",
        "# Define output values - this is the target:\n",
        "y = final_dataset['target_price']"
      ],
      "execution_count": 22,
      "outputs": []
    },
    {
      "cell_type": "code",
      "metadata": {
        "id": "ZMegqB3NwdLQ"
      },
      "source": [
        "from sklearn.model_selection import train_test_split\n",
        "X_Train, X_Test, Y_Train, Y_Test = train_test_split(X, y, test_size = 1/3, random_state = 0)"
      ],
      "execution_count": 23,
      "outputs": []
    },
    {
      "cell_type": "code",
      "metadata": {
        "colab": {
          "base_uri": "https://localhost:8080/"
        },
        "id": "nfS-bGz0xtqs",
        "outputId": "682ed3fb-a4a4-4ded-828c-6b189083f2b3"
      },
      "source": [
        "\n",
        "from sklearn.linear_model import LinearRegression\n",
        "regressor = LinearRegression()\n",
        "regressor.fit(X_Train, Y_Train)"
      ],
      "execution_count": 24,
      "outputs": [
        {
          "output_type": "execute_result",
          "data": {
            "text/plain": [
              "LinearRegression(copy_X=True, fit_intercept=True, n_jobs=None, normalize=False)"
            ]
          },
          "metadata": {
            "tags": []
          },
          "execution_count": 24
        }
      ]
    },
    {
      "cell_type": "code",
      "metadata": {
        "colab": {
          "base_uri": "https://localhost:8080/"
        },
        "id": "G77cE8TqxwWf",
        "outputId": "eccaa902-bdb8-4df3-fb49-bcb6c6d76b35"
      },
      "source": [
        "\n",
        "Y_Pred = regressor.predict(X_Test)\n",
        "Y_Pred"
      ],
      "execution_count": 25,
      "outputs": [
        {
          "output_type": "execute_result",
          "data": {
            "text/plain": [
              "array([48702.74656644, 49346.1209923 , 95820.76798505, ...,\n",
              "       35301.90952032, 49204.3136782 , 29681.71937036])"
            ]
          },
          "metadata": {
            "tags": []
          },
          "execution_count": 25
        }
      ]
    },
    {
      "cell_type": "code",
      "metadata": {
        "colab": {
          "base_uri": "https://localhost:8080/"
        },
        "id": "DBsxMd-Ex01P",
        "outputId": "5ec6904c-8e7f-4268-ed25-a444e66289b6"
      },
      "source": [
        "\n",
        "import statsmodels as sm\n",
        "import statsmodels.formula.api as smf"
      ],
      "execution_count": 26,
      "outputs": [
        {
          "output_type": "stream",
          "text": [
            "/usr/local/lib/python3.7/dist-packages/statsmodels/tools/_testing.py:19: FutureWarning: pandas.util.testing is deprecated. Use the functions in the public API at pandas.testing instead.\n",
            "  import pandas.util.testing as tm\n"
          ],
          "name": "stderr"
        }
      ]
    },
    {
      "cell_type": "code",
      "metadata": {
        "colab": {
          "base_uri": "https://localhost:8080/"
        },
        "id": "OxExskpOx6Q8",
        "outputId": "4a2136b6-393f-42e9-a825-82defac4ee4d"
      },
      "source": [
        "model = smf.ols('y~X',final_dataset)\n",
        "model"
      ],
      "execution_count": 27,
      "outputs": [
        {
          "output_type": "execute_result",
          "data": {
            "text/plain": [
              "<statsmodels.regression.linear_model.OLS at 0x7f502bebcb50>"
            ]
          },
          "metadata": {
            "tags": []
          },
          "execution_count": 27
        }
      ]
    },
    {
      "cell_type": "code",
      "metadata": {
        "colab": {
          "base_uri": "https://localhost:8080/"
        },
        "id": "ERJwtSJHx_-G",
        "outputId": "fca1e43c-a2d8-4660-d3a8-8d592d3d8276"
      },
      "source": [
        "\n",
        "results = model.fit()\n",
        "\n",
        "print(results.summary())"
      ],
      "execution_count": 28,
      "outputs": [
        {
          "output_type": "stream",
          "text": [
            "                            OLS Regression Results                            \n",
            "==============================================================================\n",
            "Dep. Variable:                      y   R-squared:                       0.571\n",
            "Model:                            OLS   Adj. R-squared:                  0.571\n",
            "Method:                 Least Squares   F-statistic:                 2.684e+04\n",
            "Date:                Wed, 02 Jun 2021   Prob (F-statistic):               0.00\n",
            "Time:                        06:34:49   Log-Likelihood:            -2.4897e+06\n",
            "No. Observations:              201971   AIC:                         4.979e+06\n",
            "Df Residuals:                  201960   BIC:                         4.979e+06\n",
            "Df Model:                          10                                         \n",
            "Covariance Type:            nonrobust                                         \n",
            "==============================================================================\n",
            "                 coef    std err          t      P>|t|      [0.025      0.975]\n",
            "------------------------------------------------------------------------------\n",
            "Intercept   5253.3383    693.931      7.570      0.000    3893.250    6613.427\n",
            "X[0]          57.1249      4.168     13.705      0.000      48.955      65.295\n",
            "X[1]           2.9439      0.399      7.369      0.000       2.161       3.727\n",
            "X[2]       -1.102e-06   5.91e-07     -1.865      0.062   -2.26e-06    5.63e-08\n",
            "X[3]         -22.6017      0.352    -64.246      0.000     -23.291     -21.912\n",
            "X[4]         811.1811      3.369    240.744      0.000     804.577     817.785\n",
            "X[5]       -1653.1894     53.747    -30.759      0.000   -1758.533   -1547.846\n",
            "X[6]       -1237.5106     61.247    -20.205      0.000   -1357.552   -1117.469\n",
            "X[7]       -4.018e+04    637.443    -63.039      0.000   -4.14e+04   -3.89e+04\n",
            "X[8]         2.01e+04    263.548     76.265      0.000    1.96e+04    2.06e+04\n",
            "X[9]       -3215.1481     23.795   -135.121      0.000   -3261.785   -3168.511\n",
            "==============================================================================\n",
            "Omnibus:                   340363.596   Durbin-Watson:                   2.003\n",
            "Prob(Omnibus):                  0.000   Jarque-Bera (JB):       2231284308.036\n",
            "Skew:                          10.733   Prob(JB):                         0.00\n",
            "Kurtosis:                     517.471   Cond. No.                     1.19e+09\n",
            "==============================================================================\n",
            "\n",
            "Warnings:\n",
            "[1] Standard Errors assume that the covariance matrix of the errors is correctly specified.\n",
            "[2] The condition number is large, 1.19e+09. This might indicate that there are\n",
            "strong multicollinearity or other numerical problems.\n"
          ],
          "name": "stdout"
        }
      ]
    },
    {
      "cell_type": "code",
      "metadata": {
        "id": "fPCMuO5pVeqE",
        "outputId": "09a9cb9e-ef9d-41cc-9139-69c68feda25b",
        "colab": {
          "base_uri": "https://localhost:8080/",
          "height": 297
        }
      },
      "source": [
        "sns.histplot(Y_Test - Y_Pred,kde = True)"
      ],
      "execution_count": 30,
      "outputs": [
        {
          "output_type": "execute_result",
          "data": {
            "text/plain": [
              "<matplotlib.axes._subplots.AxesSubplot at 0x7f502a0b7b50>"
            ]
          },
          "metadata": {
            "tags": []
          },
          "execution_count": 30
        },
        {
          "output_type": "display_data",
          "data": {
            "image/png": "[encoded data removed]",
            "text/plain": [
              "<Figure size 432x288 with 1 Axes>"
            ]
          },
          "metadata": {
            "tags": [],
            "needs_background": "light"
          }
        }
      ]
    },
    {
      "cell_type": "code",
      "metadata": {
        "id": "KZL2vuuaVe2T",
        "outputId": "ff7ad177-2622-4e84-dbcb-8be5b0b28f55",
        "colab": {
          "base_uri": "https://localhost:8080/",
          "height": 306
        }
      },
      "source": [
        "plt.scatter(Y_Test,Y_Pred)"
      ],
      "execution_count": 31,
      "outputs": [
        {
          "output_type": "execute_result",
          "data": {
            "text/plain": [
              "<matplotlib.collections.PathCollection at 0x7f502a0cf910>"
            ]
          },
          "metadata": {
            "tags": []
          },
          "execution_count": 31
        },
        {
          "output_type": "display_data",
          "data": {
            "image/png": "[encoded data removed]",
            "text/plain": [
              "<Figure size 432x288 with 1 Axes>"
            ]
          },
          "metadata": {
            "tags": [],
            "needs_background": "light"
          }
        }
      ]
    },
    {
      "cell_type": "code",
      "metadata": {
        "id": "R59N2jVKVe42",
        "outputId": "d77c556e-fef2-475b-c529-ed458d778139",
        "colab": {
          "base_uri": "https://localhost:8080/"
        }
      },
      "source": [
        "# Calculating Errors\n",
        "\n",
        "from sklearn.metrics import mean_squared_error,mean_absolute_error\n",
        "\n",
        "print('MAE is:',mean_absolute_error(Y_Test,Y_Pred))\n",
        "print('MSE is:',mean_squared_error(Y_Test,Y_Pred))\n",
        "print('RMSE is:',np.sqrt(mean_squared_error(Y_Test,Y_Pred)))"
      ],
      "execution_count": 32,
      "outputs": [
        {
          "output_type": "stream",
          "text": [
            "MAE is: 28645.600983115317\n",
            "MSE is: 3431477949.7821407\n",
            "RMSE is: 58578.81826891134\n"
          ],
          "name": "stdout"
        }
      ]
    },
    {
      "cell_type": "code",
      "metadata": {
        "id": "0Fw5Cr7fVfFH"
      },
      "source": [
        "df_corr = final_dataset.corr()\n",
        "index = df_corr.index"
      ],
      "execution_count": 34,
      "outputs": []
    },
    {
      "cell_type": "code",
      "metadata": {
        "id": "a1yLhohQVfH5",
        "outputId": "88476836-7c64-4cf4-9124-917bca529450",
        "colab": {
          "base_uri": "https://localhost:8080/",
          "height": 466
        }
      },
      "source": [
        "plt.figure(figsize = (12,6))\n",
        "sns.heatmap(final_dataset[index].corr(),annot = True,cmap = 'rainbow')  # correlation of dataset uing Heatmap"
      ],
      "execution_count": 35,
      "outputs": [
        {
          "output_type": "execute_result",
          "data": {
            "text/plain": [
              "<matplotlib.axes._subplots.AxesSubplot at 0x7f4ff8624c50>"
            ]
          },
          "metadata": {
            "tags": []
          },
          "execution_count": 35
        },
        {
          "output_type": "display_data",
          "data": {
            "image/png": "[encoded data removed]",
            "text/plain": [
              "<Figure size 864x432 with 2 Axes>"
            ]
          },
          "metadata": {
            "tags": [],
            "needs_background": "light"
          }
        }
      ]
    },
    {
      "cell_type": "code",
      "metadata": {
        "id": "nBim0sLCdaed"
      },
      "source": [
        ""
      ],
      "execution_count": null,
      "outputs": []
    }
  ]
}